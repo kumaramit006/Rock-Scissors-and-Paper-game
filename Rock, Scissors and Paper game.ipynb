{
 "cells": [
  {
   "cell_type": "code",
   "execution_count": 6,
   "id": "14195faa",
   "metadata": {},
   "outputs": [
    {
     "name": "stdout",
     "output_type": "stream",
     "text": [
      "r is rock, p is paper, s is scissors\n",
      "Enter the choice: rock\n",
      "Enter the choice: paper\n",
      "player2 win\n"
     ]
    }
   ],
   "source": [
    "#-----------------Rock,Scissors and Paper game------------------\n",
    "\n",
    "\n",
    "print('r is rock, p is paper, s is scissors')\n",
    "player1=input('Enter the choice: ')\n",
    "player2=input('Enter the choice: ')\n",
    "if player1=='paper' and player2=='rock' or player1=='scissors' and player2=='paper' or player1=='rock' and player2=='scissor':\n",
    "    print('player1 win')\n",
    "elif player1==player2:\n",
    "    print('tie')\n",
    "else:\n",
    "    print('player2 win')\n",
    "    "
   ]
  },
  {
   "cell_type": "code",
   "execution_count": null,
   "id": "7de01ee8",
   "metadata": {},
   "outputs": [],
   "source": []
  }
 ],
 "metadata": {
  "kernelspec": {
   "display_name": "Python 3 (ipykernel)",
   "language": "python",
   "name": "python3"
  },
  "language_info": {
   "codemirror_mode": {
    "name": "ipython",
    "version": 3
   },
   "file_extension": ".py",
   "mimetype": "text/x-python",
   "name": "python",
   "nbconvert_exporter": "python",
   "pygments_lexer": "ipython3",
   "version": "3.9.7"
  }
 },
 "nbformat": 4,
 "nbformat_minor": 5
}
